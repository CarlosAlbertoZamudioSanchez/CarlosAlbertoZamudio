{
 "cells": [
  {
   "cell_type": "markdown",
   "metadata": {},
   "source": [
    "Test"
   ]
  },
  {
   "cell_type": "code",
   "execution_count": 1,
   "metadata": {},
   "outputs": [
    {
     "name": "stdout",
     "output_type": "stream",
     "text": [
      "Se van a comparar la magnitud de tres numeros. Dependiendo de la condicion, se mostrara en texto que se cumplio.\n",
      "A es igual que B\n"
     ]
    }
   ],
   "source": [
    "print(\"Se van a comparar la magnitud de tres numeros. Dependiendo de la condicion, se mostrara en texto que se cumplio.\")\n",
    "A=input(\"¿Que valor quiere darle a A? \")\n",
    "B=input(\"¿Que valor quiere darle a B? \")\n",
    "C=input(\"¿Que valor quiere darle a C? \")\n",
    "if A>B:\n",
    "    if B>C:\n",
    "        print(\"A es mayor que B y C\")\n",
    "    else: \n",
    "        print(\"A es mayor que B y menor que C\")  \n",
    "elif A==B:\n",
    "    print(\"A es igual que B\")\n",
    "else:\n",
    "    print(\"A es menor que B\")"
   ]
  },
  {
   "cell_type": "markdown",
   "metadata": {},
   "source": [
    "Para este ejercicio, escribirás una lógica condicional que imprima una advertencia si un asteroide se acerca a la Tierra demasiado rápido. La velocidad del asteroide varía dependiendo de lo cerca que esté del sol, y cualquier velocidad superior a 25 kilómetros por segundo (km/s) merece una advertencia.\n",
    "\n",
    "Un asteroide se acerca, y viaja a una velocidad de 49 km/s.\n",
    "# Añadir el código necesario para crear una variable que guarde la velocidad del asteroide.\n",
    "# Escribe una expresión de prueba para calcular si necesita una advertencia.\n",
    "# Agregue las instrucciones que se ejecutarán si la expresión de prueba es true o false."
   ]
  },
  {
   "cell_type": "code",
   "execution_count": 5,
   "metadata": {},
   "outputs": [
    {
     "name": "stdout",
     "output_type": "stream",
     "text": [
      "!CORRAN POR SUS VIDAS! UN ASTEROIDE SE ACERCA A LA TIERRA\n"
     ]
    }
   ],
   "source": [
    "asteroidspeed=input(\"¿A que velocidad viaja el asteroide que se aproxima? \")\n",
    "if float(asteroidspeed)>25:\n",
    "        print(\"!CORRAN POR SUS VIDAS! UN ASTEROIDE SE ACERCA A LA TIERRA\")\n",
    "else:\n",
    "        print(\"El dia de hoy no corremos riesgo de morir siendo golpeados por un asteroide\")  "
   ]
  },
  {
   "cell_type": "markdown",
   "metadata": {},
   "source": [
    "Si un asteroide entra en la atmósfera de la Tierra a una velocidad mayor o igual a 20 km/s, a veces produce un rayo de luz que se puede ver desde la Tierra. Escribe la lógica condicional que usa declaraciones if, else, y elif para alertar a las personas de todo el mundo que deben buscar un asteroide en el cielo. ¡Hay uno que se dirige a la tierra ahora a una velocidad de 19 km/s!\n",
    "\n",
    "# Agrega el código para crear una variable para un asteroide que viaja a 19 km/s\n",
    "# Escribe varias expresiones de prueba para determinar si puedes ver el rayo de luz desde la tierra\n",
    "# Agrega las instrucciones que se ejecutarán si las expresiones de prueba son True o False"
   ]
  },
  {
   "cell_type": "code",
   "execution_count": 7,
   "metadata": {},
   "outputs": [
    {
     "name": "stdout",
     "output_type": "stream",
     "text": [
      "!Mira al cielo! Hay unas preciosas luces causadas por la descomposicion de un asteroide que entró a la atmosfera\n"
     ]
    }
   ],
   "source": [
    "asteroidspeed=input(\"¿A que velocidad viaja el asteroide que se aproxima? \")\n",
    "if float(asteroidspeed)>20:\n",
    "        print(\"!Mira al cielo! Hay unas preciosas luces causadas por la descomposicion de un asteroide que entró a la atmosfera.\")\n",
    "elif float(asteroidspeed)>=20:\n",
    "        print(\"!Mira al cielo! Hay unas preciosas luces causadas por la descomposicion de un asteroide que entró a la atmosfera.\")\n",
    "else:\n",
    "        print(\"El dia de hoy no corremos riesgo de morir siendo golpeados por un asteroide.\")  "
   ]
  },
  {
   "cell_type": "markdown",
   "metadata": {},
   "source": [
    "# Agrega el código para crear nuevas variables para la velocidad y el tamaño del asteroide\n",
    "# Para probar el código, prueba con varias velocidades y tamaños\n",
    "# Escribe varias expresiones de prueba o combinaciones de expresiones de prueba para determinar qué mensaje se debe enviar a Tierra."
   ]
  },
  {
   "cell_type": "code",
   "execution_count": 9,
   "metadata": {},
   "outputs": [
    {
     "name": "stdout",
     "output_type": "stream",
     "text": [
      "!CORRAN POR SUS VIDAS! UN ASTEROIDE SE ACERCA A LA TIERRA\n"
     ]
    }
   ],
   "source": [
    "asteroidspeed=input(\"¿A que velocidad viaja el asteroide que se aproxima? \")\n",
    "asteroidsize=input(\"¿Qué diametro tiene el asteroide que se aproxima? \")\n",
    "if float(asteroidspeed)>20 and float(asteroidsize)>25  :\n",
    "        print(\"!CORRAN POR SUS VIDAS! UN ASTEROIDE SE ACERCA A LA TIERRA\")\n",
    "elif float(asteroidspeed)>=20:\n",
    "        print(\"!Mira al cielo! Hay unas preciosas luces causadas por la descomposicion de un asteroide que entró a la atmosfera.\")\n",
    "else:\n",
    "        print(\"El dia de hoy no corremos riesgo de morir siendo golpeados por un asteroide.\") "
   ]
  }
 ],
 "metadata": {
  "interpreter": {
   "hash": "6dab3c68ced8dac866ae2b1159968c331716c28884e400acf8c0802e0314e8d8"
  },
  "kernelspec": {
   "display_name": "Python 3.10.2 64-bit",
   "language": "python",
   "name": "python3"
  },
  "language_info": {
   "codemirror_mode": {
    "name": "ipython",
    "version": 3
   },
   "file_extension": ".py",
   "mimetype": "text/x-python",
   "name": "python",
   "nbconvert_exporter": "python",
   "pygments_lexer": "ipython3",
   "version": "3.10.2"
  },
  "orig_nbformat": 4
 },
 "nbformat": 4,
 "nbformat_minor": 2
}
