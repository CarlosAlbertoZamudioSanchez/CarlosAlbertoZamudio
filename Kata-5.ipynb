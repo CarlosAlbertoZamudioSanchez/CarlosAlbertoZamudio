{
 "cells": [
  {
   "cell_type": "markdown",
   "metadata": {},
   "source": [
    "Exploremos cómo podemos crear un programa que pueda calcular la distancia entre dos planetas. Comenzaremos usando dos distancias de planetas: \n",
    "Tierra (149.597.870 km) \n",
    "y \n",
    "Júpiter (778.547.200 km)"
   ]
  },
  {
   "cell_type": "code",
   "execution_count": 1,
   "metadata": {},
   "outputs": [],
   "source": [
    "Tierra_distancia=149597870\n",
    "Jupiter_distancia=778547200"
   ]
  },
  {
   "cell_type": "markdown",
   "metadata": {},
   "source": [
    "Con los valores obtenidos, es el momento de añadir el código para realizar la operación. Restarás el primer planeta del segundo para determinar la distancia en kilómetros. A continuación, puedes convertir la distancia del kilómetro en millas multiplicándola por \n",
    "0.621"
   ]
  },
  {
   "cell_type": "code",
   "execution_count": 2,
   "metadata": {},
   "outputs": [
    {
     "name": "stdout",
     "output_type": "stream",
     "text": [
      "628949330.0\n",
      "390577533.93\n"
     ]
    }
   ],
   "source": [
    "Tierra_distancia=149597870\n",
    "Jupiter_distancia=778547200\n",
    "\n",
    "kmdistancia=abs(Tierra_distancia-Jupiter_distancia) #Distancia absoluta\n",
    "print(float(kmdistancia))\n",
    "\n",
    "midistancia=kmdistancia*0.621\n",
    "print(float(midistancia))"
   ]
  },
  {
   "cell_type": "markdown",
   "metadata": {},
   "source": [
    "Con los valores almacenados como números, ahora puedes agregar el código para realizar el cálculo, restando el primer planeta del segundo. Debido a que el segundo planeta podría ser un número mayor, usarás abs para convertirlo a un valor absoluto. También agregarás el código para mostrar el resultado en millas multiplicando la distancia del kilómetro \n",
    "por 0.621"
   ]
  },
  {
   "cell_type": "code",
   "execution_count": 6,
   "metadata": {},
   "outputs": [
    {
     "name": "stdout",
     "output_type": "stream",
     "text": [
      "La distancia entre los dos planetas es de 200.0 KM\n",
      "La distancia entre los dos planetas es de 124.2 Millas\n"
     ]
    }
   ],
   "source": [
    "planeta1= input(\"Insertar distancia entre el planeta 1 y el Sol en KM\")\n",
    "planeta2= input(\"Insertar la distancia del planeta 2 al Sol en KM\")\n",
    "\n",
    "distanciaplanetas= abs(float(planeta1) - float(planeta2))\n",
    "midistancia= abs(float(distanciaplanetas) * 0.621)\n",
    "\n",
    "print(\"La distancia entre los dos planetas es de \" + str(distanciaplanetas) + \" KM\")\n",
    "print(\"La distancia entre los dos planetas es de \"+ str(midistancia) + \" Millas\")\n",
    "\n"
   ]
  }
 ],
 "metadata": {
  "interpreter": {
   "hash": "6dab3c68ced8dac866ae2b1159968c331716c28884e400acf8c0802e0314e8d8"
  },
  "kernelspec": {
   "display_name": "Python 3.10.2 64-bit",
   "language": "python",
   "name": "python3"
  },
  "language_info": {
   "codemirror_mode": {
    "name": "ipython",
    "version": 3
   },
   "file_extension": ".py",
   "mimetype": "text/x-python",
   "name": "python",
   "nbconvert_exporter": "python",
   "pygments_lexer": "ipython3",
   "version": "3.10.2"
  },
  "orig_nbformat": 4
 },
 "nbformat": 4,
 "nbformat_minor": 2
}
