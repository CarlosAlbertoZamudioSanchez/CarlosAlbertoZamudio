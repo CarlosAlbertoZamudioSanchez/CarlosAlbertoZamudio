{
 "cells": [
  {
   "cell_type": "markdown",
   "metadata": {},
   "source": [
    "En primer lugar, crea una variable denominada planets. Agrega los ocho planetas (sin Plutón) a la lista. A continuación, muestra el número de planetas."
   ]
  },
  {
   "cell_type": "code",
   "execution_count": 6,
   "metadata": {},
   "outputs": [
    {
     "name": "stdout",
     "output_type": "stream",
     "text": [
      "['Mercurio', 'Venus', 'Tierra', 'Marte', 'Jupiter', 'Saturno', 'Urano', 'Neptuno']\n",
      "Hay 8 planetas en nuestro sistema solar\n",
      "Pluton es el ultimo planeta\n"
     ]
    }
   ],
   "source": [
    "# Creamos la lista planets y la mostramos\n",
    "planetas=['Mercurio', 'Venus', 'Tierra', 'Marte', 'Jupiter', 'Saturno', 'Urano', 'Neptuno']\n",
    "print(planetas)\n",
    "print(\"Hay\", len(planetas), \"planetas en nuestro sistema solar\")\n",
    "\n",
    "# Agregamos a Plutón y mostramos el último elemento\n",
    "planetas.append(\"Pluton\")\n",
    "print(planetas[-1], \"es el ultimo planeta\")"
   ]
  },
  {
   "cell_type": "code",
   "execution_count": 13,
   "metadata": {},
   "outputs": [
    {
     "name": "stdout",
     "output_type": "stream",
     "text": [
      "['Mercurio', 'Venus', 'Tierra', 'Marte', 'Jupiter', 'Saturno', 'Urano', 'Neptuno']\n",
      "VENUS\n",
      "Venus\n",
      "Tomando de referencia al Sol, aqui se muestran los planetas que se encuentran ANTES de Venus\n",
      "['Mercurio']\n",
      "Tomando de referencia al Sol, aqui se muestran los planetas que se encuentran DESPUES de Venus\n",
      "['Tierra', 'Marte', 'Jupiter', 'Saturno', 'Urano', 'Neptuno']\n"
     ]
    }
   ],
   "source": [
    "# Lista de planetas\n",
    "planetas=['Mercurio', 'Venus', 'Tierra', 'Marte', 'Jupiter', 'Saturno', 'Urano', 'Neptuno']\n",
    "print(planetas)\n",
    "# Solicitamos el nombre de un planeta\n",
    "solicitud1=input(\"Introduce el planeta que deseas buscar\")\n",
    "print(solicitud1)\n",
    "solicitud=solicitud1.title()\n",
    "print(solicitud)\n",
    "\n",
    "# Busca el planeta en la lista\n",
    "busqueda= planetas.index(solicitud)\n",
    "\n",
    "# Muestra los planetas más cercanos al sol\n",
    "print(\"Tomando de referencia al Sol, aqui se muestran los planetas que se encuentran ANTES de \"  + solicitud)\n",
    "print(planetas[0:busqueda])\n",
    "\n",
    "# Muestra los planetas más lejanos al sol\n",
    "print(\"Tomando de referencia al Sol, aqui se muestran los planetas que se encuentran DESPUES de \"  + solicitud)\n",
    "print(planetas[busqueda+1:])\n"
   ]
  }
 ],
 "metadata": {
  "interpreter": {
   "hash": "6dab3c68ced8dac866ae2b1159968c331716c28884e400acf8c0802e0314e8d8"
  },
  "kernelspec": {
   "display_name": "Python 3.10.2 64-bit",
   "language": "python",
   "name": "python3"
  },
  "language_info": {
   "codemirror_mode": {
    "name": "ipython",
    "version": 3
   },
   "file_extension": ".py",
   "mimetype": "text/x-python",
   "name": "python",
   "nbconvert_exporter": "python",
   "pygments_lexer": "ipython3",
   "version": "3.10.2"
  },
  "orig_nbformat": 4
 },
 "nbformat": 4,
 "nbformat_minor": 2
}
