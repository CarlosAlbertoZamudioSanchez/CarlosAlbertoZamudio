{
 "cells": [
  {
   "cell_type": "markdown",
   "metadata": {},
   "source": [
    "En este ejercicio, estás creando una aplicación que solicita a un usuario que ingrese una lista de planetas. En un ejercicio posterior, agregarás código que muestre la lista. Por ahora, crearás solo el código que solicita al usuario la lista de planetas."
   ]
  },
  {
   "cell_type": "code",
   "execution_count": 3,
   "metadata": {},
   "outputs": [],
   "source": [
    "planeta_entry = \"\"\n",
    "planetas_lista = []\n"
   ]
  },
  {
   "cell_type": "markdown",
   "metadata": {},
   "source": [
    "Comenzando con las variables que acabas de crear, crearás un ciclo while. El ciclo while se ejecutará mientras el new_planet no sea igual a la palabra 'done'.\n",
    "\n",
    "Dentro del ciclo, comprobarás si la variable new_planet contiene un valor, que debería ser el nombre de un planeta. Esta es una forma rápida de ver si el usuario ha introducido un valor. Si lo han hecho, tu código agregará (append) ese valor a la variable planets.\n",
    "\n",
    "Finalmente, usarás input para solicitar al usuario que ingrese un nuevo nombre de planeta o que escriba done si ha terminado de ingresar nombres de planeta. Almacenará el valor de input en la variable new_planet."
   ]
  },
  {
   "cell_type": "code",
   "execution_count": 2,
   "metadata": {},
   "outputs": [
    {
     "name": "stdout",
     "output_type": "stream",
     "text": [
      "['Planetas', 'Planetas']\n",
      "['Planetas', 'Planetas', 'Tierra']\n",
      "['Planetas', 'Planetas', 'Tierra', 'Jupter']\n",
      "['Planetas', 'Planetas', 'Tierra', 'Jupter', 'saturno']\n",
      "['Planetas', 'Planetas', 'Tierra', 'Jupter', 'saturno', 'urano']\n",
      "['Planetas', 'Planetas', 'Tierra', 'Jupter', 'saturno', 'urano', 'marte']\n",
      "['Planetas', 'Planetas', 'Tierra', 'Jupter', 'saturno', 'urano', 'marte', 'mercurio']\n",
      "['Planetas', 'Planetas', 'Tierra', 'Jupter', 'saturno', 'urano', 'marte', 'mercurio', 'Urano']\n",
      "['Planetas', 'Planetas', 'Tierra', 'Jupter', 'saturno', 'urano', 'marte', 'mercurio', 'Urano', 'Pluton']\n",
      "['Planetas', 'Planetas', 'Tierra', 'Jupter', 'saturno', 'urano', 'marte', 'mercurio', 'Urano', 'Pluton']\n"
     ]
    }
   ],
   "source": [
    "planeta_entry = input(\"Escriba un planeta \")\n",
    "planetas_lista = [planeta_entry]\n",
    "\n",
    "while planeta_entry.lower() != 'hecho':\n",
    "    if planeta_entry:\n",
    "        planetas_lista.append(planeta_entry)\n",
    "    planeta_entry = input(\"Ingrese un nuevo planeta, si desea salir del programa, escriba <Hecho> \")\n",
    "    print(planetas_lista)\n"
   ]
  },
  {
   "cell_type": "markdown",
   "metadata": {},
   "source": [
    "Ejercicio: - Ciclo para una lista\n",
    "En el ejercicio anterior, creaste código para solicitar a los usuarios que introduzcan una lista de nombres de planetas. En este ejercicio, completarás la aplicación escribiendo código que muestre los nombres de esos planetas.\n",
    "\n",
    "Mostrar la lista de los planetas\n",
    "La variable planets almacena los nombres de planeta que ha introducido un usuario. Ahora usarás un ciclo para mostrar esas entradas.\n",
    "\n",
    "Crea un ciclo for para iterar sobre la lista planets. Puedes usar como nombre de la variable planet para cada planeta. Dentro del ciclo for, recuerda utilizar print para mostrar cada planet."
   ]
  },
  {
   "cell_type": "code",
   "execution_count": 1,
   "metadata": {},
   "outputs": [
    {
     "name": "stdout",
     "output_type": "stream",
     "text": [
      "Marte\n",
      "Marte\n",
      "Jupiter\n",
      "Saturno\n",
      "Tierra\n",
      "Urano\n",
      "Pluton\n",
      "Mercurio\n",
      "hehco\n"
     ]
    }
   ],
   "source": [
    "planeta_entry = input(\"Escriba un planeta \")\n",
    "planetas_lista = [planeta_entry]\n",
    "\n",
    "while planeta_entry.lower() != 'hecho':\n",
    "    if planeta_entry:\n",
    "        planetas_lista.append(planeta_entry)\n",
    "    planeta_entry = input(\"Ingrese un nuevo planeta, si desea salir del programa, escriba <Hecho> \")\n",
    "\n",
    "for planet in planetas_lista:\n",
    "    print(planet)"
   ]
  }
 ],
 "metadata": {
  "interpreter": {
   "hash": "6dab3c68ced8dac866ae2b1159968c331716c28884e400acf8c0802e0314e8d8"
  },
  "kernelspec": {
   "display_name": "Python 3.10.2 64-bit",
   "language": "python",
   "name": "python3"
  },
  "language_info": {
   "codemirror_mode": {
    "name": "ipython",
    "version": 3
   },
   "file_extension": ".py",
   "mimetype": "text/x-python",
   "name": "python",
   "nbconvert_exporter": "python",
   "pygments_lexer": "ipython3",
   "version": "3.10.2"
  },
  "orig_nbformat": 4
 },
 "nbformat": 4,
 "nbformat_minor": 2
}
