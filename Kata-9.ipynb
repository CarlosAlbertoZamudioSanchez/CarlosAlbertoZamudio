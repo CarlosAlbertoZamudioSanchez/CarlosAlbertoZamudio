{
 "cells": [
  {
   "cell_type": "markdown",
   "metadata": {},
   "source": [
    "## Ejercicio 1: Uso de funciones en Python"
   ]
  },
  {
   "cell_type": "code",
   "execution_count": 57,
   "metadata": {},
   "outputs": [],
   "source": [
    "#crear funcion para 3 tanques y obtener el promedio total de combustible \n",
    "def combustible_nave(tanque1, tanque2, tanque3):\n",
    "    combustible_total_promedio= (tanque1 + tanque2 + tanque3)/ 3\n",
    "    return f\"Reporte de combustible: Promedio de combustible: {combustible_total_promedio}% Tanque 1:{tanque1}% Tanque 2: {tanque2}% Tanque 3: {tanque3}% \""
   ]
  },
  {
   "cell_type": "code",
   "execution_count": 58,
   "metadata": {},
   "outputs": [
    {
     "data": {
      "text/plain": [
       "'Reporte de combustible: Promedio de combustible: 33.333333333333336% Tanque 1:20% Tanque 2: 30% Tanque 3: 50% '"
      ]
     },
     "execution_count": 58,
     "metadata": {},
     "output_type": "execute_result"
    }
   ],
   "source": [
    "#llamamos a la funcion e ingresamos valores aleatorios para los tanques\n",
    "combustible_nave(20, 30, 50)"
   ]
  },
  {
   "cell_type": "code",
   "execution_count": 70,
   "metadata": {},
   "outputs": [],
   "source": [
    "#creamos una funcion especifica para obtener el promedio, use arguments (*args)\n",
    "def promedio (*arg):\n",
    "    #sumamos los valores ingresados\n",
    "    total= sum(arg)\n",
    "    #obtenemos la cantidad de datos ingresados\n",
    "    numero_d_tanques= len(arg)\n",
    "    #realizamos el promedio\n",
    "    return total/numero_d_tanques\n"
   ]
  },
  {
   "cell_type": "code",
   "execution_count": 71,
   "metadata": {},
   "outputs": [
    {
     "data": {
      "text/plain": [
       "31.666666666666668"
      ]
     },
     "execution_count": 71,
     "metadata": {},
     "output_type": "execute_result"
    }
   ],
   "source": [
    "promedio(15, 30, 50)"
   ]
  },
  {
   "cell_type": "code",
   "execution_count": 82,
   "metadata": {},
   "outputs": [],
   "source": [
    "def combustible_nave(tanque1, tanque2, tanque3):\n",
    "    return f\"\"\"\n",
    "    Reporte de combustible: \n",
    "    Promedio de combustible: {promedio(tanque1, tanque2, tanque3)}%\n",
    "    Tanque 1:{tanque1}% \n",
    "    Tanque 2: {tanque2}% \n",
    "    Tanque 3: {tanque3}% \"\"\""
   ]
  },
  {
   "cell_type": "code",
   "execution_count": 83,
   "metadata": {},
   "outputs": [
    {
     "name": "stdout",
     "output_type": "stream",
     "text": [
      "\n",
      "    Reporte de combustible: \n",
      "    Promedio de combustible: 31.666666666666668%\n",
      "    Tanque 1:15% \n",
      "    Tanque 2: 30% \n",
      "    Tanque 3: 50% \n"
     ]
    }
   ],
   "source": [
    "print(combustible_nave(15, 30, 50))"
   ]
  },
  {
   "cell_type": "markdown",
   "metadata": {},
   "source": [
    "## Ejercicio 2: Trabajo con argumentos de palabra clave"
   ]
  },
  {
   "cell_type": "code",
   "execution_count": 119,
   "metadata": {},
   "outputs": [],
   "source": [
    "def reporte_de_mision(t_pre_lanzamiento, tiempo_de_vuelo, destino, tanque_secundario, tanque_principal):\n",
    "    return f\"\"\"\n",
    "    Misión a {destino}\n",
    "    Tiempo Total de Vuelo:: {t_pre_lanzamiento + tiempo_de_vuelo} minutos\n",
    "    Combustible disponible: {tanque_secundario + tanque_principal} litros\n",
    "    \"\"\""
   ]
  },
  {
   "cell_type": "code",
   "execution_count": 120,
   "metadata": {},
   "outputs": [
    {
     "name": "stdout",
     "output_type": "stream",
     "text": [
      "\n",
      "    Misión a Luna\n",
      "    Tiempo Total de Vuelo:: 165 minutos\n",
      "    Combustible disponible: 1320000 litros\n",
      "    \n"
     ]
    }
   ],
   "source": [
    "print(reporte_de_mision(45, 120, \"Luna\", 20000, 1300000))"
   ]
  },
  {
   "cell_type": "code",
   "execution_count": 134,
   "metadata": {},
   "outputs": [],
   "source": [
    "def reporte_de_mision(destino,*args, **kwargs):\n",
    "    r_principal= f\"\"\"\n",
    "    Misión a {destino}\n",
    "    Tiempo Total de Vuelo:: {sum(args)} minutos\n",
    "    Combustible disponible: {sum(kwargs.values())} litros\n",
    "    \"\"\"\n",
    "\n",
    "    for tipo_tanque, litros in kwargs.items():\n",
    "        r_principal += f\"Tanque {tipo_tanque}: {litros} litros sobrantes\\n    \"\n",
    "    return r_principal"
   ]
  },
  {
   "cell_type": "code",
   "execution_count": 135,
   "metadata": {},
   "outputs": [
    {
     "name": "stdout",
     "output_type": "stream",
     "text": [
      "\n",
      "    Misión a Luna\n",
      "    Tiempo Total de Vuelo:: 323 minutos\n",
      "    Combustible disponible: 89245 litros\n",
      "    Tanque main: 30256 litros sobrantes\n",
      "    Tanque secondary: 58989 litros sobrantes\n",
      "    \n"
     ]
    }
   ],
   "source": [
    "print(reporte_de_mision('Luna', 45, 70, 63,50, 56, 9, 30, main= 30256, secondary= 58989, ))"
   ]
  }
 ],
 "metadata": {
  "interpreter": {
   "hash": "0ce85295773af0bfae033fa59b4603ef041a8722d4fdf1e87d2e2b48918eacf2"
  },
  "kernelspec": {
   "display_name": "Python 3.9.10 64-bit",
   "language": "python",
   "name": "python3"
  },
  "language_info": {
   "codemirror_mode": {
    "name": "ipython",
    "version": 3
   },
   "file_extension": ".py",
   "mimetype": "text/x-python",
   "name": "python",
   "nbconvert_exporter": "python",
   "pygments_lexer": "ipython3",
   "version": "3.9.10"
  },
  "orig_nbformat": 4
 },
 "nbformat": 4,
 "nbformat_minor": 2
}
